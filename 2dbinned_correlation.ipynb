{
 "cells": [
  {
   "cell_type": "markdown",
   "metadata": {
    "colab_type": "text",
    "id": "594Mh3E8DqmX"
   },
   "source": [
    "# 2D binned correlation analysis of leaf angles from simulated TLS"
   ]
  },
  {
   "cell_type": "markdown",
   "metadata": {
    "colab_type": "text",
    "id": "vf9Rds-4D33c"
   },
   "source": [
    "### Importing modules"
   ]
  },
  {
   "cell_type": "code",
   "execution_count": 1,
   "metadata": {
    "colab": {
     "autoexec": {
      "startup": false,
      "wait_interval": 0
     }
    },
    "colab_type": "code",
    "collapsed": true,
    "id": "MCEcnxWKDlcE"
   },
   "outputs": [],
   "source": [
    "import numpy as np\n",
    "import matplotlib.pyplot as plt\n",
    "from matplotlib.pyplot import cm\n",
    "import os\n",
    "from scipy.stats import pearsonr\n",
    "import pandas as pd\n",
    "%matplotlib inline"
   ]
  },
  {
   "cell_type": "markdown",
   "metadata": {
    "colab_type": "text",
    "id": "qzh4NVIMD6la"
   },
   "source": [
    "### Defining function to bin 1D data based on a bin size"
   ]
  },
  {
   "cell_type": "code",
   "execution_count": 2,
   "metadata": {
    "colab": {
     "autoexec": {
      "startup": false,
      "wait_interval": 0
     }
    },
    "colab_type": "code",
    "collapsed": true,
    "id": "WhMMkFM8EBAT"
   },
   "outputs": [],
   "source": [
    "def binned_angle_frequency(data, bin_size):\n",
    "\n",
    "    bin_min = np.arange(0, 90, bin_size)\n",
    "    bin_max = bin_min + bin_size\n",
    "\n",
    "    bincount = np.zeros(bin_min.shape[0], dtype=int)\n",
    "    for i, (b1, b2) in enumerate(zip(bin_min, bin_max)):\n",
    "        bin_mask = np.logical_and((data >= b1), (data <= b2))\n",
    "        bincount[i] = data[bin_mask].shape[0]\n",
    "\n",
    "    bincount = bincount.astype(float) / np.sum(bincount)\n",
    "\n",
    "    return bincount"
   ]
  },
  {
   "cell_type": "markdown",
   "metadata": {
    "colab_type": "text",
    "id": "ggdqhmHdEB3n"
   },
   "source": [
    "### Defining main function"
   ]
  },
  {
   "cell_type": "code",
   "execution_count": 3,
   "metadata": {
    "colab": {
     "autoexec": {
      "startup": false,
      "wait_interval": 0
     }
    },
    "colab_type": "code",
    "collapsed": true,
    "id": "_qWTwLf3ENEp"
   },
   "outputs": [],
   "source": [
    "def plot_comparison(ref_dist, est_dists, bin_size):\n",
    "\n",
    "    df = pd.DataFrame([], columns=['pearson', 'p-value'])\n",
    "\n",
    "    ref = np.loadtxt(ref_dist)\n",
    "\n",
    "    color = iter(cm.rainbow(np.linspace(0, 1, len(est_dists))))\n",
    "    plt.figure()\n",
    "\n",
    "    for e in est_dists:\n",
    "\n",
    "        label = os.path.splitext(os.path.basename(e))[0]\n",
    "\n",
    "        est = np.loadtxt(e)\n",
    "\n",
    "        binfreq = binned_angle_frequency(est, bin_size)\n",
    "\n",
    "        plt.scatter(ref[:, 1], binfreq, c=next(color), label=label)\n",
    "\n",
    "        r, p = pearsonr(ref[:, 1], binfreq)\n",
    "\n",
    "        df.loc[label] = pd.Series({'pearson':r, 'p-value':p})\n",
    "\n",
    "    plt.legend()\n",
    "\n",
    "    return df"
   ]
  },
  {
   "cell_type": "markdown",
   "metadata": {
    "colab_type": "text",
    "id": "Q2OgLZ0qEN78"
   },
   "source": [
    "### Comparing TLS and RAMI reference angles over distance"
   ]
  },
  {
   "cell_type": "code",
   "execution_count": 4,
   "metadata": {
    "colab": {
     "autoexec": {
      "startup": false,
      "wait_interval": 0
     }
    },
    "colab_type": "code",
    "collapsed": true,
    "id": "bm8-QzekEURL"
   },
   "outputs": [],
   "source": [
    "bin_size = 5\n",
    "\n",
    "ref_dist = r'data/RAMI_ref/ACPL_angles.txt'\n",
    "\n",
    "est_dists = [r'data/TLS/ACPL_10m.txt',\n",
    "             r'data/TLS/ACPL_20m.txt',\n",
    "             r'data/TLS/ACPL_30m.txt',\n",
    "             r'data/TLS/ACPL_40m.txt',\n",
    "             r'data/TLS/ACPL_50m.txt']\n",
    "\n",
    "df = plot_comparison(ref_dist, est_dists, bin_size)\n",
    "df"
   ]
  },
  {
   "cell_type": "markdown",
   "metadata": {
    "collapsed": true
   },
   "source": [
    "### Comparing TLS and DLP"
   ]
  },
  {
   "cell_type": "code",
   "execution_count": null,
   "metadata": {
    "collapsed": true
   },
   "outputs": [],
   "source": [
    "bin_size = 5\n",
    "\n",
    "ref_dist = r'data/RAMI_ref/ACPL_angles.txt'\n",
    "\n",
    "est_dists = [r'data/TLS/ACPL_10m.txt',\n",
    "             r'data/TLS/ACPL_20m.txt',\n",
    "             r'data/TLS/ACPL_30m.txt',\n",
    "             r'data/TLS/ACPL_40m.txt',\n",
    "             r'data/TLS/ACPL_50m.txt']"
   ]
  }
 ],
 "metadata": {
  "colab": {
   "collapsed_sections": [],
   "default_view": {},
   "name": "2dbinned_correlation.ipynb",
   "provenance": [],
   "version": "0.3.2",
   "views": {}
  },
  "kernelspec": {
   "display_name": "Python 2",
   "language": "python",
   "name": "python2"
  },
  "language_info": {
   "codemirror_mode": {
    "name": "ipython",
    "version": 2
   },
   "file_extension": ".py",
   "mimetype": "text/x-python",
   "name": "python",
   "nbconvert_exporter": "python",
   "pygments_lexer": "ipython2",
   "version": "2.7.13"
  }
 },
 "nbformat": 4,
 "nbformat_minor": 1
}
