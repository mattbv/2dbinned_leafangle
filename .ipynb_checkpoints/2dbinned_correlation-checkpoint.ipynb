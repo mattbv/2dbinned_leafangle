{
 "cells": [
  {
   "cell_type": "markdown",
   "metadata": {
    "colab_type": "text",
    "id": "594Mh3E8DqmX"
   },
   "source": [
    "# 2D binned correlation analysis of leaf angles from simulated TLS"
   ]
  },
  {
   "cell_type": "markdown",
   "metadata": {
    "colab_type": "text",
    "id": "ctg7ugfpDzT3"
   },
   "source": [
    "### Installing required dependencies"
   ]
  },
  {
   "cell_type": "code",
   "execution_count": 1,
   "metadata": {
    "colab": {
     "autoexec": {
      "startup": false,
      "wait_interval": 0
     },
     "base_uri": "https://localhost:8080/",
     "height": 38,
     "output_extras": [
      {
       "item_id": 1
      }
     ]
    },
    "colab_type": "code",
    "executionInfo": {
     "elapsed": 2072,
     "status": "ok",
     "timestamp": 1519212107691,
     "user": {
      "displayName": "Matheus Boni Vicari",
      "photoUrl": "//lh4.googleusercontent.com/-DilIBKQDOv8/AAAAAAAAAAI/AAAAAAAACts/eS3EUwY1mRk/s50-c-k-no/photo.jpg",
      "userId": "103640610327421940957"
     },
     "user_tz": 0
    },
    "id": "qDYnTq0fDigh",
    "outputId": "568acd04-38ee-4559-fcff-c1ad1f450fa1"
   },
   "outputs": [
    {
     "name": "stdout",
     "output_type": "stream",
     "text": [
      "Requirement already satisfied: tabulate in c:\\users\\matheus\\anaconda2\\envs\\qt4\\lib\\site-packages\n"
     ]
    }
   ],
   "source": [
    "!pip install tabulate"
   ]
  },
  {
   "cell_type": "markdown",
   "metadata": {
    "colab_type": "text",
    "id": "vf9Rds-4D33c"
   },
   "source": [
    "### Importing modules"
   ]
  },
  {
   "cell_type": "code",
   "execution_count": 2,
   "metadata": {
    "colab": {
     "autoexec": {
      "startup": false,
      "wait_interval": 0
     }
    },
    "colab_type": "code",
    "id": "MCEcnxWKDlcE"
   },
   "outputs": [
    {
     "ename": "ImportError",
     "evalue": "No module named tabulate",
     "output_type": "error",
     "traceback": [
      "\u001b[1;31m---------------------------------------------------------------------------\u001b[0m",
      "\u001b[1;31mImportError\u001b[0m                               Traceback (most recent call last)",
      "\u001b[1;32m<ipython-input-2-42ae50ee3679>\u001b[0m in \u001b[0;36m<module>\u001b[1;34m()\u001b[0m\n\u001b[0;32m      5\u001b[0m \u001b[1;32mfrom\u001b[0m \u001b[0mscipy\u001b[0m\u001b[1;33m.\u001b[0m\u001b[0mstats\u001b[0m \u001b[1;32mimport\u001b[0m \u001b[0mpearsonr\u001b[0m\u001b[1;33m\u001b[0m\u001b[0m\n\u001b[0;32m      6\u001b[0m \u001b[1;32mimport\u001b[0m \u001b[0mpandas\u001b[0m \u001b[1;32mas\u001b[0m \u001b[0mpd\u001b[0m\u001b[1;33m\u001b[0m\u001b[0m\n\u001b[1;32m----> 7\u001b[1;33m \u001b[1;32mfrom\u001b[0m \u001b[0mtabulate\u001b[0m \u001b[1;32mimport\u001b[0m \u001b[0mtabulate\u001b[0m\u001b[1;33m\u001b[0m\u001b[0m\n\u001b[0m",
      "\u001b[1;31mImportError\u001b[0m: No module named tabulate"
     ]
    }
   ],
   "source": [
    "import numpy as np\n",
    "import matplotlib.pyplot as plt\n",
    "from matplotlib.pyplot import cm\n",
    "import os\n",
    "from scipy.stats import pearsonr\n",
    "import pandas as pd\n",
    "from tabulate import tabulate"
   ]
  },
  {
   "cell_type": "markdown",
   "metadata": {
    "colab_type": "text",
    "id": "qzh4NVIMD6la"
   },
   "source": [
    "### Defining function to bin 1D data based on a bin size"
   ]
  },
  {
   "cell_type": "code",
   "execution_count": null,
   "metadata": {
    "colab": {
     "autoexec": {
      "startup": false,
      "wait_interval": 0
     }
    },
    "colab_type": "code",
    "collapsed": true,
    "id": "WhMMkFM8EBAT"
   },
   "outputs": [],
   "source": [
    "def binned_angle_frequency(data, bin_size):\n",
    "\n",
    "    bin_min = np.arange(0, 90, bin_size)\n",
    "    bin_max = bin_min + bin_size\n",
    "\n",
    "    bincount = np.zeros(bin_min.shape[0], dtype=int)\n",
    "    for i, (b1, b2) in enumerate(zip(bin_min, bin_max)):\n",
    "        bin_mask = np.logical_and((data >= b1), (data <= b2))\n",
    "        bincount[i] = data[bin_mask].shape[0]\n",
    "\n",
    "    bincount = bincount.astype(float) / np.sum(bincount)\n",
    "\n",
    "    return bincount"
   ]
  },
  {
   "cell_type": "markdown",
   "metadata": {
    "colab_type": "text",
    "id": "ggdqhmHdEB3n"
   },
   "source": [
    "### Defining main function"
   ]
  },
  {
   "cell_type": "code",
   "execution_count": null,
   "metadata": {
    "colab": {
     "autoexec": {
      "startup": false,
      "wait_interval": 0
     }
    },
    "colab_type": "code",
    "collapsed": true,
    "id": "_qWTwLf3ENEp"
   },
   "outputs": [],
   "source": [
    "def plot_comparison(ref_dist, est_dists, bin_size):\n",
    "\n",
    "    df = pd.DataFrame([], columns=['pearson', 'p-value'])\n",
    "\n",
    "    ref = np.loadtxt(ref_dist)\n",
    "\n",
    "    color = iter(cm.rainbow(np.linspace(0, 1, len(est_dists))))\n",
    "    plt.figure()\n",
    "\n",
    "    for e in est_dists:\n",
    "\n",
    "        label = os.path.splitext(os.path.basename(e))[0]\n",
    "\n",
    "        est = np.loadtxt(e)\n",
    "\n",
    "        binfreq = binned_angle_frequency(est, bin_size)\n",
    "\n",
    "        plt.scatter(ref[:, 1], binfreq, c=next(color), label=label)\n",
    "\n",
    "        r, p = pearsonr(ref[:, 1], binfreq)\n",
    "\n",
    "        df.loc[label] = pd.Series({'pearson':r, 'p-value':p})\n",
    "\n",
    "    plt.legend()\n",
    "\n",
    "    return df"
   ]
  },
  {
   "cell_type": "markdown",
   "metadata": {
    "colab_type": "text",
    "id": "Q2OgLZ0qEN78"
   },
   "source": [
    "### Setting up variables"
   ]
  },
  {
   "cell_type": "code",
   "execution_count": null,
   "metadata": {
    "colab": {
     "autoexec": {
      "startup": false,
      "wait_interval": 0
     }
    },
    "colab_type": "code",
    "collapsed": true,
    "id": "bm8-QzekEURL"
   },
   "outputs": [],
   "source": [
    "bin_size = 5\n",
    "\n",
    "ref_dist = r'data/ACPL_angles.txt'\n",
    "\n",
    "est_dists = [r'data/ACPL_10m.txt',\n",
    "             r'data/ACPL_20m.txt',\n",
    "             r'data/ACPL_30m.txt',\n",
    "             r'data/ACPL_40m.txt',\n",
    "             r'data/ACPL_50m.txt']"
   ]
  },
  {
   "cell_type": "markdown",
   "metadata": {
    "colab_type": "text",
    "id": "ZGzKvcNKEgBR"
   },
   "source": [
    "### Running analysis"
   ]
  },
  {
   "cell_type": "code",
   "execution_count": null,
   "metadata": {
    "colab": {
     "autoexec": {
      "startup": false,
      "wait_interval": 0
     },
     "base_uri": "https://localhost:8080/",
     "height": 610,
     "output_extras": [
      {
       "item_id": 1
      }
     ]
    },
    "colab_type": "code",
    "executionInfo": {
     "elapsed": 377,
     "status": "error",
     "timestamp": 1519211676632,
     "user": {
      "displayName": "Matheus Boni Vicari",
      "photoUrl": "//lh4.googleusercontent.com/-DilIBKQDOv8/AAAAAAAAAAI/AAAAAAAACts/eS3EUwY1mRk/s50-c-k-no/photo.jpg",
      "userId": "103640610327421940957"
     },
     "user_tz": 0
    },
    "id": "7XJ38lr_Eitl",
    "outputId": "a3485d96-f7a3-460e-b5ba-f02d4e49f7f1"
   },
   "outputs": [],
   "source": [
    "df = plot_comparison(ref_dist, est_dists, bin_size)\n",
    "print tabulate(df, headers='keys', tablefmt='psql')"
   ]
  }
 ],
 "metadata": {
  "colab": {
   "collapsed_sections": [],
   "default_view": {},
   "name": "2dbinned_correlation.ipynb",
   "provenance": [],
   "version": "0.3.2",
   "views": {}
  },
  "kernelspec": {
   "display_name": "Python 2",
   "language": "python",
   "name": "python2"
  },
  "language_info": {
   "codemirror_mode": {
    "name": "ipython",
    "version": 2
   },
   "file_extension": ".py",
   "mimetype": "text/x-python",
   "name": "python",
   "nbconvert_exporter": "python",
   "pygments_lexer": "ipython2",
   "version": "2.7.13"
  }
 },
 "nbformat": 4,
 "nbformat_minor": 1
}
